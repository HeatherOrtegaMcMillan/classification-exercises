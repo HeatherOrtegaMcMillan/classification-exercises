{
 "cells": [
  {
   "cell_type": "markdown",
   "metadata": {},
   "source": [
    "# Modeling Exercises\n",
    "------"
   ]
  },
  {
   "cell_type": "markdown",
   "metadata": {},
   "source": [
    "# Decision Tree Exercises"
   ]
  },
  {
   "cell_type": "code",
   "execution_count": 1,
   "metadata": {},
   "outputs": [],
   "source": [
    "import pandas as pd\n",
    "import numpy as np\n",
    "from sklearn.tree import DecisionTreeClassifier, plot_tree, export_text\n",
    "from sklearn.metrics import classification_report, confusion_matrix\n",
    "from sklearn.ensemble import RandomForestClassifier\n",
    "import matplotlib.pyplot as plt\n",
    "import acquire\n",
    "import prepare2\n"
   ]
  },
  {
   "cell_type": "markdown",
   "metadata": {},
   "source": [
    "Using the titanic data, in your classification-exercises repository, create a notebook, model.ipynb where you will do the following:\n",
    "\n",
    "#### 1. What is your baseline prediction? What is your baseline accuracy? remember: your baseline prediction for a classification problem is predicting the most prevelant class in the training dataset (the mode). When you make those predictions, what is your accuracy? This is your baseline accuracy.\n"
   ]
  },
  {
   "cell_type": "code",
   "execution_count": 5,
   "metadata": {},
   "outputs": [],
   "source": [
    "df = acquire.get_titanic_data()"
   ]
  },
  {
   "cell_type": "code",
   "execution_count": 6,
   "metadata": {},
   "outputs": [
    {
     "name": "stderr",
     "output_type": "stream",
     "text": [
      "/Users/Heather/codeup-data-science/classification-exercises/prepare2.py:99: SettingWithCopyWarning: \n",
      "A value is trying to be set on a copy of a slice from a DataFrame.\n",
      "Try using .loc[row_indexer,col_indexer] = value instead\n",
      "\n",
      "See the caveats in the documentation: https://pandas.pydata.org/pandas-docs/stable/user_guide/indexing.html#returning-a-view-versus-a-copy\n",
      "  test['embark_town'] = imputer.transform(test[['embark_town']])\n"
     ]
    }
   ],
   "source": [
    "train, validate, test = prepare2.prep_titanic_data(df)"
   ]
  },
  {
   "cell_type": "code",
   "execution_count": 7,
   "metadata": {},
   "outputs": [
    {
     "data": {
      "text/html": [
       "<div>\n",
       "<style scoped>\n",
       "    .dataframe tbody tr th:only-of-type {\n",
       "        vertical-align: middle;\n",
       "    }\n",
       "\n",
       "    .dataframe tbody tr th {\n",
       "        vertical-align: top;\n",
       "    }\n",
       "\n",
       "    .dataframe thead th {\n",
       "        text-align: right;\n",
       "    }\n",
       "</style>\n",
       "<table border=\"1\" class=\"dataframe\">\n",
       "  <thead>\n",
       "    <tr style=\"text-align: right;\">\n",
       "      <th></th>\n",
       "      <th>survived</th>\n",
       "      <th>pclass</th>\n",
       "      <th>sibsp</th>\n",
       "      <th>parch</th>\n",
       "      <th>fare</th>\n",
       "      <th>alone</th>\n",
       "      <th>sex_male</th>\n",
       "      <th>embark_town_Queenstown</th>\n",
       "      <th>embark_town_Southampton</th>\n",
       "    </tr>\n",
       "  </thead>\n",
       "  <tbody>\n",
       "    <tr>\n",
       "      <th>474</th>\n",
       "      <td>0</td>\n",
       "      <td>3</td>\n",
       "      <td>0</td>\n",
       "      <td>0</td>\n",
       "      <td>9.8375</td>\n",
       "      <td>1</td>\n",
       "      <td>0</td>\n",
       "      <td>0</td>\n",
       "      <td>1</td>\n",
       "    </tr>\n",
       "    <tr>\n",
       "      <th>370</th>\n",
       "      <td>1</td>\n",
       "      <td>1</td>\n",
       "      <td>1</td>\n",
       "      <td>0</td>\n",
       "      <td>55.4417</td>\n",
       "      <td>0</td>\n",
       "      <td>1</td>\n",
       "      <td>0</td>\n",
       "      <td>0</td>\n",
       "    </tr>\n",
       "    <tr>\n",
       "      <th>573</th>\n",
       "      <td>1</td>\n",
       "      <td>3</td>\n",
       "      <td>0</td>\n",
       "      <td>0</td>\n",
       "      <td>7.7500</td>\n",
       "      <td>1</td>\n",
       "      <td>0</td>\n",
       "      <td>1</td>\n",
       "      <td>0</td>\n",
       "    </tr>\n",
       "    <tr>\n",
       "      <th>110</th>\n",
       "      <td>0</td>\n",
       "      <td>1</td>\n",
       "      <td>0</td>\n",
       "      <td>0</td>\n",
       "      <td>52.0000</td>\n",
       "      <td>1</td>\n",
       "      <td>1</td>\n",
       "      <td>0</td>\n",
       "      <td>1</td>\n",
       "    </tr>\n",
       "    <tr>\n",
       "      <th>167</th>\n",
       "      <td>0</td>\n",
       "      <td>3</td>\n",
       "      <td>1</td>\n",
       "      <td>4</td>\n",
       "      <td>27.9000</td>\n",
       "      <td>0</td>\n",
       "      <td>0</td>\n",
       "      <td>0</td>\n",
       "      <td>1</td>\n",
       "    </tr>\n",
       "  </tbody>\n",
       "</table>\n",
       "</div>"
      ],
      "text/plain": [
       "     survived  pclass  sibsp  parch     fare  alone  sex_male  \\\n",
       "474         0       3      0      0   9.8375      1         0   \n",
       "370         1       1      1      0  55.4417      0         1   \n",
       "573         1       3      0      0   7.7500      1         0   \n",
       "110         0       1      0      0  52.0000      1         1   \n",
       "167         0       3      1      4  27.9000      0         0   \n",
       "\n",
       "     embark_town_Queenstown  embark_town_Southampton  \n",
       "474                       0                        1  \n",
       "370                       0                        0  \n",
       "573                       1                        0  \n",
       "110                       0                        1  \n",
       "167                       0                        1  "
      ]
     },
     "execution_count": 7,
     "metadata": {},
     "output_type": "execute_result"
    }
   ],
   "source": [
    "train.head()"
   ]
  },
  {
   "cell_type": "code",
   "execution_count": 8,
   "metadata": {},
   "outputs": [
    {
     "data": {
      "text/plain": [
       "0    307\n",
       "1    191\n",
       "Name: survived, dtype: int64"
      ]
     },
     "execution_count": 8,
     "metadata": {},
     "output_type": "execute_result"
    }
   ],
   "source": [
    "# most people died\n",
    "train.survived.value_counts()"
   ]
  },
  {
   "cell_type": "code",
   "execution_count": 9,
   "metadata": {},
   "outputs": [],
   "source": [
    "# add baseline column and set all values to 0 (aka died), the most common value in survived\n",
    "train['baseline'] = 0"
   ]
  },
  {
   "cell_type": "code",
   "execution_count": 10,
   "metadata": {},
   "outputs": [
    {
     "name": "stdout",
     "output_type": "stream",
     "text": [
      "              precision    recall  f1-score   support\n",
      "\n",
      "           0       0.62      1.00      0.76       307\n",
      "           1       1.00      0.00      0.00       191\n",
      "\n",
      "    accuracy                           0.62       498\n",
      "   macro avg       0.81      0.50      0.38       498\n",
      "weighted avg       0.76      0.62      0.47       498\n",
      "\n"
     ]
    }
   ],
   "source": [
    "# create classification report of baseline model\n",
    "baseline_class_report = classification_report(train.survived, train.baseline, zero_division=True)\n",
    "print(baseline_class_report)"
   ]
  },
  {
   "cell_type": "markdown",
   "metadata": {},
   "source": [
    "### *Accuracy for the baseline model (always predicting death) is 62%.* "
   ]
  },
  {
   "cell_type": "markdown",
   "metadata": {},
   "source": [
    "#### 2. Fit the decision tree classifier to your training sample and transform (i.e. make predictions on the training sample)\n"
   ]
  },
  {
   "cell_type": "code",
   "execution_count": 11,
   "metadata": {},
   "outputs": [
    {
     "data": {
      "text/html": [
       "<div>\n",
       "<style scoped>\n",
       "    .dataframe tbody tr th:only-of-type {\n",
       "        vertical-align: middle;\n",
       "    }\n",
       "\n",
       "    .dataframe tbody tr th {\n",
       "        vertical-align: top;\n",
       "    }\n",
       "\n",
       "    .dataframe thead th {\n",
       "        text-align: right;\n",
       "    }\n",
       "</style>\n",
       "<table border=\"1\" class=\"dataframe\">\n",
       "  <thead>\n",
       "    <tr style=\"text-align: right;\">\n",
       "      <th></th>\n",
       "      <th>survived</th>\n",
       "      <th>pclass</th>\n",
       "      <th>sibsp</th>\n",
       "      <th>parch</th>\n",
       "      <th>fare</th>\n",
       "      <th>alone</th>\n",
       "      <th>sex_male</th>\n",
       "      <th>embark_town_Queenstown</th>\n",
       "      <th>embark_town_Southampton</th>\n",
       "      <th>baseline</th>\n",
       "    </tr>\n",
       "  </thead>\n",
       "  <tbody>\n",
       "    <tr>\n",
       "      <th>474</th>\n",
       "      <td>0</td>\n",
       "      <td>3</td>\n",
       "      <td>0</td>\n",
       "      <td>0</td>\n",
       "      <td>9.8375</td>\n",
       "      <td>1</td>\n",
       "      <td>0</td>\n",
       "      <td>0</td>\n",
       "      <td>1</td>\n",
       "      <td>0</td>\n",
       "    </tr>\n",
       "    <tr>\n",
       "      <th>370</th>\n",
       "      <td>1</td>\n",
       "      <td>1</td>\n",
       "      <td>1</td>\n",
       "      <td>0</td>\n",
       "      <td>55.4417</td>\n",
       "      <td>0</td>\n",
       "      <td>1</td>\n",
       "      <td>0</td>\n",
       "      <td>0</td>\n",
       "      <td>0</td>\n",
       "    </tr>\n",
       "    <tr>\n",
       "      <th>573</th>\n",
       "      <td>1</td>\n",
       "      <td>3</td>\n",
       "      <td>0</td>\n",
       "      <td>0</td>\n",
       "      <td>7.7500</td>\n",
       "      <td>1</td>\n",
       "      <td>0</td>\n",
       "      <td>1</td>\n",
       "      <td>0</td>\n",
       "      <td>0</td>\n",
       "    </tr>\n",
       "    <tr>\n",
       "      <th>110</th>\n",
       "      <td>0</td>\n",
       "      <td>1</td>\n",
       "      <td>0</td>\n",
       "      <td>0</td>\n",
       "      <td>52.0000</td>\n",
       "      <td>1</td>\n",
       "      <td>1</td>\n",
       "      <td>0</td>\n",
       "      <td>1</td>\n",
       "      <td>0</td>\n",
       "    </tr>\n",
       "    <tr>\n",
       "      <th>167</th>\n",
       "      <td>0</td>\n",
       "      <td>3</td>\n",
       "      <td>1</td>\n",
       "      <td>4</td>\n",
       "      <td>27.9000</td>\n",
       "      <td>0</td>\n",
       "      <td>0</td>\n",
       "      <td>0</td>\n",
       "      <td>1</td>\n",
       "      <td>0</td>\n",
       "    </tr>\n",
       "  </tbody>\n",
       "</table>\n",
       "</div>"
      ],
      "text/plain": [
       "     survived  pclass  sibsp  parch     fare  alone  sex_male  \\\n",
       "474         0       3      0      0   9.8375      1         0   \n",
       "370         1       1      1      0  55.4417      0         1   \n",
       "573         1       3      0      0   7.7500      1         0   \n",
       "110         0       1      0      0  52.0000      1         1   \n",
       "167         0       3      1      4  27.9000      0         0   \n",
       "\n",
       "     embark_town_Queenstown  embark_town_Southampton  baseline  \n",
       "474                       0                        1         0  \n",
       "370                       0                        0         0  \n",
       "573                       1                        0         0  \n",
       "110                       0                        1         0  \n",
       "167                       0                        1         0  "
      ]
     },
     "execution_count": 11,
     "metadata": {},
     "output_type": "execute_result"
    }
   ],
   "source": [
    "train.head()"
   ]
  },
  {
   "cell_type": "code",
   "execution_count": 7,
   "metadata": {},
   "outputs": [],
   "source": [
    "# choose my features for the model\n",
    "# pclass, sex (m or f), sibsp (family members, siblings and spouse)\n",
    "\n",
    "X_cols = ['pclass', 'sex_male', 'sibsp']\n",
    "y_col = 'survived'\n",
    "\n",
    "# do the capital X lowercase y thing for train test and split\n",
    "# X is the data frame of the features, y is a series of the target\n",
    "X_train, y_train = train[X_cols], train[y_col]\n",
    "X_validate, y_validate = validate[X_cols], validate[y_col]\n",
    "X_test, y_test = test[X_cols], test[y_col]"
   ]
  },
  {
   "cell_type": "code",
   "execution_count": 135,
   "metadata": {},
   "outputs": [
    {
     "data": {
      "text/plain": [
       "DecisionTreeClassifier()"
      ]
     },
     "execution_count": 135,
     "metadata": {},
     "output_type": "execute_result"
    }
   ],
   "source": [
    "# Create decision tree model\n",
    "model1 = DecisionTreeClassifier()\n",
    "# fit model to train data\n",
    "model1.fit(X_train, y_train)"
   ]
  },
  {
   "cell_type": "code",
   "execution_count": 136,
   "metadata": {},
   "outputs": [
    {
     "name": "stdout",
     "output_type": "stream",
     "text": [
      "training score: 82.13%\n",
      "validate score: 72.43%\n"
     ]
    }
   ],
   "source": [
    "# look at the model scores for training set and validate set\n",
    "print(f'training score: {model1.score(X_train, y_train):.2%}')\n",
    "print(f'validate score: {model1.score(X_validate, y_validate):.2%}')"
   ]
  },
  {
   "cell_type": "code",
   "execution_count": 137,
   "metadata": {},
   "outputs": [
    {
     "data": {
      "text/plain": [
       "[Text(421.19999999999993, 454.2942857142857, 'X[1] <= 0.5\\ngini = 0.473\\nsamples = 498\\nvalue = [307, 191]'),\n",
       " Text(230.39999999999998, 384.40285714285716, 'X[0] <= 2.5\\ngini = 0.372\\nsamples = 174\\nvalue = [43, 131]'),\n",
       " Text(115.19999999999999, 314.51142857142855, 'X[0] <= 1.5\\ngini = 0.059\\nsamples = 98\\nvalue = [3, 95]'),\n",
       " Text(57.599999999999994, 244.62, 'X[2] <= 0.5\\ngini = 0.032\\nsamples = 61\\nvalue = [1, 60]'),\n",
       " Text(28.799999999999997, 174.7285714285714, 'gini = 0.062\\nsamples = 31\\nvalue = [1, 30]'),\n",
       " Text(86.39999999999999, 174.7285714285714, 'gini = 0.0\\nsamples = 30\\nvalue = [0, 30]'),\n",
       " Text(172.79999999999998, 244.62, 'X[2] <= 1.5\\ngini = 0.102\\nsamples = 37\\nvalue = [2, 35]'),\n",
       " Text(144.0, 174.7285714285714, 'X[2] <= 0.5\\ngini = 0.108\\nsamples = 35\\nvalue = [2, 33]'),\n",
       " Text(115.19999999999999, 104.83714285714285, 'gini = 0.117\\nsamples = 16\\nvalue = [1, 15]'),\n",
       " Text(172.79999999999998, 104.83714285714285, 'gini = 0.1\\nsamples = 19\\nvalue = [1, 18]'),\n",
       " Text(201.59999999999997, 174.7285714285714, 'gini = 0.0\\nsamples = 2\\nvalue = [0, 2]'),\n",
       " Text(345.59999999999997, 314.51142857142855, 'X[2] <= 1.5\\ngini = 0.499\\nsamples = 76\\nvalue = [40, 36]'),\n",
       " Text(288.0, 244.62, 'X[2] <= 0.5\\ngini = 0.498\\nsamples = 62\\nvalue = [29, 33]'),\n",
       " Text(259.2, 174.7285714285714, 'gini = 0.5\\nsamples = 42\\nvalue = [21, 21]'),\n",
       " Text(316.79999999999995, 174.7285714285714, 'gini = 0.48\\nsamples = 20\\nvalue = [8, 12]'),\n",
       " Text(403.19999999999993, 244.62, 'X[2] <= 4.5\\ngini = 0.337\\nsamples = 14\\nvalue = [11, 3]'),\n",
       " Text(374.4, 174.7285714285714, 'X[2] <= 2.5\\ngini = 0.397\\nsamples = 11\\nvalue = [8, 3]'),\n",
       " Text(345.59999999999997, 104.83714285714285, 'gini = 0.444\\nsamples = 3\\nvalue = [2, 1]'),\n",
       " Text(403.19999999999993, 104.83714285714285, 'X[2] <= 3.5\\ngini = 0.375\\nsamples = 8\\nvalue = [6, 2]'),\n",
       " Text(374.4, 34.945714285714246, 'gini = 0.375\\nsamples = 4\\nvalue = [3, 1]'),\n",
       " Text(431.99999999999994, 34.945714285714246, 'gini = 0.375\\nsamples = 4\\nvalue = [3, 1]'),\n",
       " Text(431.99999999999994, 174.7285714285714, 'gini = 0.0\\nsamples = 3\\nvalue = [3, 0]'),\n",
       " Text(611.9999999999999, 384.40285714285716, 'X[0] <= 1.5\\ngini = 0.302\\nsamples = 324\\nvalue = [264, 60]'),\n",
       " Text(489.59999999999997, 314.51142857142855, 'X[2] <= 0.5\\ngini = 0.473\\nsamples = 65\\nvalue = [40, 25]'),\n",
       " Text(460.79999999999995, 244.62, 'gini = 0.413\\nsamples = 48\\nvalue = [34, 14]'),\n",
       " Text(518.4, 244.62, 'X[2] <= 2.5\\ngini = 0.457\\nsamples = 17\\nvalue = [6, 11]'),\n",
       " Text(489.59999999999997, 174.7285714285714, 'X[2] <= 1.5\\ngini = 0.43\\nsamples = 16\\nvalue = [5, 11]'),\n",
       " Text(460.79999999999995, 104.83714285714285, 'gini = 0.444\\nsamples = 15\\nvalue = [5, 10]'),\n",
       " Text(518.4, 104.83714285714285, 'gini = 0.0\\nsamples = 1\\nvalue = [0, 1]'),\n",
       " Text(547.1999999999999, 174.7285714285714, 'gini = 0.0\\nsamples = 1\\nvalue = [1, 0]'),\n",
       " Text(734.4, 314.51142857142855, 'X[2] <= 1.5\\ngini = 0.234\\nsamples = 259\\nvalue = [224, 35]'),\n",
       " Text(662.4, 244.62, 'X[2] <= 0.5\\ngini = 0.245\\nsamples = 238\\nvalue = [204, 34]'),\n",
       " Text(604.8, 174.7285714285714, 'X[0] <= 2.5\\ngini = 0.215\\nsamples = 204\\nvalue = [179, 25]'),\n",
       " Text(576.0, 104.83714285714285, 'gini = 0.21\\nsamples = 42\\nvalue = [37, 5]'),\n",
       " Text(633.5999999999999, 104.83714285714285, 'gini = 0.216\\nsamples = 162\\nvalue = [142, 20]'),\n",
       " Text(719.9999999999999, 174.7285714285714, 'X[0] <= 2.5\\ngini = 0.389\\nsamples = 34\\nvalue = [25, 9]'),\n",
       " Text(691.1999999999999, 104.83714285714285, 'gini = 0.459\\nsamples = 14\\nvalue = [9, 5]'),\n",
       " Text(748.8, 104.83714285714285, 'gini = 0.32\\nsamples = 20\\nvalue = [16, 4]'),\n",
       " Text(806.3999999999999, 244.62, 'X[2] <= 3.5\\ngini = 0.091\\nsamples = 21\\nvalue = [20, 1]'),\n",
       " Text(777.5999999999999, 174.7285714285714, 'gini = 0.0\\nsamples = 9\\nvalue = [9, 0]'),\n",
       " Text(835.1999999999999, 174.7285714285714, 'X[2] <= 4.5\\ngini = 0.153\\nsamples = 12\\nvalue = [11, 1]'),\n",
       " Text(806.3999999999999, 104.83714285714285, 'gini = 0.278\\nsamples = 6\\nvalue = [5, 1]'),\n",
       " Text(863.9999999999999, 104.83714285714285, 'gini = 0.0\\nsamples = 6\\nvalue = [6, 0]')]"
      ]
     },
     "execution_count": 137,
     "metadata": {},
     "output_type": "execute_result"
    },
    {
     "data": {
      "image/png": "[encoded data removed]",
      "text/plain": [
       "<Figure size 1152x648 with 1 Axes>"
      ]
     },
     "metadata": {
      "needs_background": "light"
     },
     "output_type": "display_data"
    }
   ],
   "source": [
    "# plot the decision tree\n",
    "plt.figure(figsize = (16,9))\n",
    "plot_tree(model1, filled = True )"
   ]
  },
  {
   "cell_type": "code",
   "execution_count": 138,
   "metadata": {},
   "outputs": [],
   "source": [
    "# woa that has so many nodes. \n",
    "# I will try again with same features, and give the decision tree a depth limit"
   ]
  },
  {
   "cell_type": "markdown",
   "metadata": {},
   "source": [
    "### 3. Evaluate your in-sample results using the model score, confusion matrix, and classification report. - compute metrics on the TRAIN set\n",
    "\n"
   ]
  },
  {
   "cell_type": "code",
   "execution_count": 139,
   "metadata": {},
   "outputs": [
    {
     "name": "stdout",
     "output_type": "stream",
     "text": [
      "training score: 82.13%\n",
      "validate score: 72.43%\n"
     ]
    }
   ],
   "source": [
    "# look at the model scores for training set and validate set\n",
    "print(f'training score: {model1.score(X_train, y_train):.2%}')\n",
    "print(f'validate score: {model1.score(X_validate, y_validate):.2%}')"
   ]
  },
  {
   "cell_type": "code",
   "execution_count": 140,
   "metadata": {},
   "outputs": [
    {
     "data": {
      "text/html": [
       "<div>\n",
       "<style scoped>\n",
       "    .dataframe tbody tr th:only-of-type {\n",
       "        vertical-align: middle;\n",
       "    }\n",
       "\n",
       "    .dataframe tbody tr th {\n",
       "        vertical-align: top;\n",
       "    }\n",
       "\n",
       "    .dataframe thead th {\n",
       "        text-align: right;\n",
       "    }\n",
       "</style>\n",
       "<table border=\"1\" class=\"dataframe\">\n",
       "  <thead>\n",
       "    <tr style=\"text-align: right;\">\n",
       "      <th></th>\n",
       "      <th>survived</th>\n",
       "      <th>pclass</th>\n",
       "      <th>sibsp</th>\n",
       "      <th>parch</th>\n",
       "      <th>fare</th>\n",
       "      <th>alone</th>\n",
       "      <th>sex_male</th>\n",
       "      <th>embark_town_Queenstown</th>\n",
       "      <th>embark_town_Southampton</th>\n",
       "      <th>baseline</th>\n",
       "      <th>model1_prediction</th>\n",
       "      <th>model2_predictions</th>\n",
       "    </tr>\n",
       "  </thead>\n",
       "  <tbody>\n",
       "    <tr>\n",
       "      <th>474</th>\n",
       "      <td>0</td>\n",
       "      <td>3</td>\n",
       "      <td>0</td>\n",
       "      <td>0</td>\n",
       "      <td>9.8375</td>\n",
       "      <td>1</td>\n",
       "      <td>0</td>\n",
       "      <td>0</td>\n",
       "      <td>1</td>\n",
       "      <td>0</td>\n",
       "      <td>0</td>\n",
       "      <td>1</td>\n",
       "    </tr>\n",
       "    <tr>\n",
       "      <th>370</th>\n",
       "      <td>1</td>\n",
       "      <td>1</td>\n",
       "      <td>1</td>\n",
       "      <td>0</td>\n",
       "      <td>55.4417</td>\n",
       "      <td>0</td>\n",
       "      <td>1</td>\n",
       "      <td>0</td>\n",
       "      <td>0</td>\n",
       "      <td>0</td>\n",
       "      <td>1</td>\n",
       "      <td>1</td>\n",
       "    </tr>\n",
       "    <tr>\n",
       "      <th>573</th>\n",
       "      <td>1</td>\n",
       "      <td>3</td>\n",
       "      <td>0</td>\n",
       "      <td>0</td>\n",
       "      <td>7.7500</td>\n",
       "      <td>1</td>\n",
       "      <td>0</td>\n",
       "      <td>1</td>\n",
       "      <td>0</td>\n",
       "      <td>0</td>\n",
       "      <td>0</td>\n",
       "      <td>1</td>\n",
       "    </tr>\n",
       "    <tr>\n",
       "      <th>110</th>\n",
       "      <td>0</td>\n",
       "      <td>1</td>\n",
       "      <td>0</td>\n",
       "      <td>0</td>\n",
       "      <td>52.0000</td>\n",
       "      <td>1</td>\n",
       "      <td>1</td>\n",
       "      <td>0</td>\n",
       "      <td>1</td>\n",
       "      <td>0</td>\n",
       "      <td>0</td>\n",
       "      <td>0</td>\n",
       "    </tr>\n",
       "    <tr>\n",
       "      <th>167</th>\n",
       "      <td>0</td>\n",
       "      <td>3</td>\n",
       "      <td>1</td>\n",
       "      <td>4</td>\n",
       "      <td>27.9000</td>\n",
       "      <td>0</td>\n",
       "      <td>0</td>\n",
       "      <td>0</td>\n",
       "      <td>1</td>\n",
       "      <td>0</td>\n",
       "      <td>1</td>\n",
       "      <td>0</td>\n",
       "    </tr>\n",
       "  </tbody>\n",
       "</table>\n",
       "</div>"
      ],
      "text/plain": [
       "     survived  pclass  sibsp  parch     fare  alone  sex_male  \\\n",
       "474         0       3      0      0   9.8375      1         0   \n",
       "370         1       1      1      0  55.4417      0         1   \n",
       "573         1       3      0      0   7.7500      1         0   \n",
       "110         0       1      0      0  52.0000      1         1   \n",
       "167         0       3      1      4  27.9000      0         0   \n",
       "\n",
       "     embark_town_Queenstown  embark_town_Southampton  baseline  \\\n",
       "474                       0                        1         0   \n",
       "370                       0                        0         0   \n",
       "573                       1                        0         0   \n",
       "110                       0                        1         0   \n",
       "167                       0                        1         0   \n",
       "\n",
       "     model1_prediction  model2_predictions  \n",
       "474                  0                   1  \n",
       "370                  1                   1  \n",
       "573                  0                   1  \n",
       "110                  0                   0  \n",
       "167                  1                   0  "
      ]
     },
     "execution_count": 140,
     "metadata": {},
     "output_type": "execute_result"
    }
   ],
   "source": [
    "# use model 1 to predict on the TRAIN set\n",
    "# add a column for model1 predictions\n",
    "train['model1_prediction'] = model1.predict(X_train)\n",
    "train.head()"
   ]
  },
  {
   "cell_type": "code",
   "execution_count": 141,
   "metadata": {},
   "outputs": [
    {
     "name": "stdout",
     "output_type": "stream",
     "text": [
      "              precision    recall  f1-score   support\n",
      "\n",
      "           0       0.80      0.95      0.87       307\n",
      "           1       0.88      0.62      0.73       191\n",
      "\n",
      "    accuracy                           0.82       498\n",
      "   macro avg       0.84      0.78      0.80       498\n",
      "weighted avg       0.83      0.82      0.81       498\n",
      "\n"
     ]
    }
   ],
   "source": [
    "# do classification report comparing actuals to model 1's predictions (for the TRAIN set)\n",
    "model1_class_report = classification_report(train.survived, train.model1_prediction, zero_division=True)\n",
    "print(model1_class_report)"
   ]
  },
  {
   "cell_type": "code",
   "execution_count": 142,
   "metadata": {},
   "outputs": [
    {
     "data": {
      "text/plain": [
       "array([[291,  16],\n",
       "       [ 73, 118]])"
      ]
     },
     "execution_count": 142,
     "metadata": {},
     "output_type": "execute_result"
    }
   ],
   "source": [
    "# print confusion matrix\n",
    "confusion_matrix(train.survived, train.model1_prediction)\n",
    "\n",
    "#TP: Died, predicted dead: 291\n",
    "#FP: Alive, predicted dead: 16\n",
    "#FN: Dead, predicted alive: 73\n",
    "#TN: Alive, predicted alive: 118"
   ]
  },
  {
   "cell_type": "code",
   "execution_count": null,
   "metadata": {},
   "outputs": [],
   "source": []
  },
  {
   "cell_type": "markdown",
   "metadata": {},
   "source": [
    "### 4. Compute: Accuracy, true positive rate, false positive rate, true negative rate, false negative rate, precision, recall, f1-score, and support. - compute metrics on the VALIDATE set"
   ]
  },
  {
   "cell_type": "code",
   "execution_count": 144,
   "metadata": {},
   "outputs": [
    {
     "name": "stdout",
     "output_type": "stream",
     "text": [
      "validate score: 72.43%\n"
     ]
    }
   ],
   "source": [
    "# print the model score on the validate set\n",
    "print(f'validate score: {model1.score(X_validate, y_validate):.2%}')"
   ]
  },
  {
   "cell_type": "code",
   "execution_count": 145,
   "metadata": {},
   "outputs": [
    {
     "data": {
      "text/html": [
       "<div>\n",
       "<style scoped>\n",
       "    .dataframe tbody tr th:only-of-type {\n",
       "        vertical-align: middle;\n",
       "    }\n",
       "\n",
       "    .dataframe tbody tr th {\n",
       "        vertical-align: top;\n",
       "    }\n",
       "\n",
       "    .dataframe thead th {\n",
       "        text-align: right;\n",
       "    }\n",
       "</style>\n",
       "<table border=\"1\" class=\"dataframe\">\n",
       "  <thead>\n",
       "    <tr style=\"text-align: right;\">\n",
       "      <th></th>\n",
       "      <th>survived</th>\n",
       "      <th>pclass</th>\n",
       "      <th>sibsp</th>\n",
       "      <th>parch</th>\n",
       "      <th>fare</th>\n",
       "      <th>alone</th>\n",
       "      <th>sex_male</th>\n",
       "      <th>embark_town_Queenstown</th>\n",
       "      <th>embark_town_Southampton</th>\n",
       "      <th>model1_prediction</th>\n",
       "    </tr>\n",
       "  </thead>\n",
       "  <tbody>\n",
       "    <tr>\n",
       "      <th>569</th>\n",
       "      <td>1</td>\n",
       "      <td>3</td>\n",
       "      <td>0</td>\n",
       "      <td>0</td>\n",
       "      <td>7.8542</td>\n",
       "      <td>1</td>\n",
       "      <td>1</td>\n",
       "      <td>0</td>\n",
       "      <td>1</td>\n",
       "      <td>0</td>\n",
       "    </tr>\n",
       "    <tr>\n",
       "      <th>532</th>\n",
       "      <td>0</td>\n",
       "      <td>3</td>\n",
       "      <td>1</td>\n",
       "      <td>1</td>\n",
       "      <td>7.2292</td>\n",
       "      <td>0</td>\n",
       "      <td>1</td>\n",
       "      <td>0</td>\n",
       "      <td>0</td>\n",
       "      <td>0</td>\n",
       "    </tr>\n",
       "    <tr>\n",
       "      <th>223</th>\n",
       "      <td>0</td>\n",
       "      <td>3</td>\n",
       "      <td>0</td>\n",
       "      <td>0</td>\n",
       "      <td>7.8958</td>\n",
       "      <td>1</td>\n",
       "      <td>1</td>\n",
       "      <td>0</td>\n",
       "      <td>1</td>\n",
       "      <td>0</td>\n",
       "    </tr>\n",
       "    <tr>\n",
       "      <th>35</th>\n",
       "      <td>0</td>\n",
       "      <td>1</td>\n",
       "      <td>1</td>\n",
       "      <td>0</td>\n",
       "      <td>52.0000</td>\n",
       "      <td>0</td>\n",
       "      <td>1</td>\n",
       "      <td>0</td>\n",
       "      <td>1</td>\n",
       "      <td>1</td>\n",
       "    </tr>\n",
       "    <tr>\n",
       "      <th>93</th>\n",
       "      <td>0</td>\n",
       "      <td>3</td>\n",
       "      <td>1</td>\n",
       "      <td>2</td>\n",
       "      <td>20.5750</td>\n",
       "      <td>0</td>\n",
       "      <td>1</td>\n",
       "      <td>0</td>\n",
       "      <td>1</td>\n",
       "      <td>0</td>\n",
       "    </tr>\n",
       "  </tbody>\n",
       "</table>\n",
       "</div>"
      ],
      "text/plain": [
       "     survived  pclass  sibsp  parch     fare  alone  sex_male  \\\n",
       "569         1       3      0      0   7.8542      1         1   \n",
       "532         0       3      1      1   7.2292      0         1   \n",
       "223         0       3      0      0   7.8958      1         1   \n",
       "35          0       1      1      0  52.0000      0         1   \n",
       "93          0       3      1      2  20.5750      0         1   \n",
       "\n",
       "     embark_town_Queenstown  embark_town_Southampton  model1_prediction  \n",
       "569                       0                        1                  0  \n",
       "532                       0                        0                  0  \n",
       "223                       0                        1                  0  \n",
       "35                        0                        1                  1  \n",
       "93                        0                        1                  0  "
      ]
     },
     "execution_count": 145,
     "metadata": {},
     "output_type": "execute_result"
    }
   ],
   "source": [
    "# add model 1 prediction column to the validate df\n",
    "validate['model1_prediction'] = model1.predict(X_validate)\n",
    "validate.head()"
   ]
  },
  {
   "cell_type": "code",
   "execution_count": 146,
   "metadata": {},
   "outputs": [
    {
     "name": "stdout",
     "output_type": "stream",
     "text": [
      "              precision    recall  f1-score   support\n",
      "\n",
      "           0       0.74      0.86      0.79       132\n",
      "           1       0.69      0.50      0.58        82\n",
      "\n",
      "    accuracy                           0.72       214\n",
      "   macro avg       0.72      0.68      0.69       214\n",
      "weighted avg       0.72      0.72      0.71       214\n",
      "\n"
     ]
    }
   ],
   "source": [
    "# run classification report for model 1 on validate set\n",
    "model1_class_report = classification_report(validate.survived, validate.model1_prediction, zero_division=True)\n",
    "print(model1_class_report)"
   ]
  },
  {
   "cell_type": "code",
   "execution_count": 147,
   "metadata": {},
   "outputs": [
    {
     "data": {
      "text/plain": [
       "array([[114,  18],\n",
       "       [ 41,  41]])"
      ]
     },
     "execution_count": 147,
     "metadata": {},
     "output_type": "execute_result"
    }
   ],
   "source": [
    "confusion_matrix(validate.survived, validate.model1_prediction)\n",
    "\n",
    "#TP: Died, predicted dead: 114\n",
    "#FP: Alive, predicted dead: 18\n",
    "#FN: Dead, predicted alive: 41\n",
    "#TN: Alive, predicted alive: 41"
   ]
  },
  {
   "cell_type": "code",
   "execution_count": null,
   "metadata": {},
   "outputs": [],
   "source": []
  },
  {
   "cell_type": "markdown",
   "metadata": {},
   "source": [
    "#### 5. Run through steps 2-4 using a different max_depth value.\n",
    "\n"
   ]
  },
  {
   "cell_type": "code",
   "execution_count": 148,
   "metadata": {},
   "outputs": [
    {
     "data": {
      "text/plain": [
       "DecisionTreeClassifier(max_depth=4)"
      ]
     },
     "execution_count": 148,
     "metadata": {},
     "output_type": "execute_result"
    }
   ],
   "source": [
    "# create model 2\n",
    "# change depth to 4\n",
    "model2 = DecisionTreeClassifier(max_depth=4)\n",
    "\n",
    "# fit to train dataset\n",
    "model2.fit(X_train, y_train)"
   ]
  },
  {
   "cell_type": "code",
   "execution_count": 149,
   "metadata": {},
   "outputs": [
    {
     "data": {
      "text/plain": [
       "[Text(454.3714285714285, 440.31600000000003, 'X[1] <= 0.5\\ngini = 0.473\\nsamples = 498\\nvalue = [307, 191]'),\n",
       " Text(255.08571428571426, 342.468, 'X[0] <= 2.5\\ngini = 0.372\\nsamples = 174\\nvalue = [43, 131]'),\n",
       " Text(127.54285714285713, 244.62, 'X[0] <= 1.5\\ngini = 0.059\\nsamples = 98\\nvalue = [3, 95]'),\n",
       " Text(63.771428571428565, 146.772, 'X[2] <= 0.5\\ngini = 0.032\\nsamples = 61\\nvalue = [1, 60]'),\n",
       " Text(31.885714285714283, 48.924000000000035, 'gini = 0.062\\nsamples = 31\\nvalue = [1, 30]'),\n",
       " Text(95.65714285714284, 48.924000000000035, 'gini = 0.0\\nsamples = 30\\nvalue = [0, 30]'),\n",
       " Text(191.3142857142857, 146.772, 'X[2] <= 1.5\\ngini = 0.102\\nsamples = 37\\nvalue = [2, 35]'),\n",
       " Text(159.42857142857142, 48.924000000000035, 'gini = 0.108\\nsamples = 35\\nvalue = [2, 33]'),\n",
       " Text(223.2, 48.924000000000035, 'gini = 0.0\\nsamples = 2\\nvalue = [0, 2]'),\n",
       " Text(382.6285714285714, 244.62, 'X[2] <= 1.5\\ngini = 0.499\\nsamples = 76\\nvalue = [40, 36]'),\n",
       " Text(318.85714285714283, 146.772, 'X[2] <= 0.5\\ngini = 0.498\\nsamples = 62\\nvalue = [29, 33]'),\n",
       " Text(286.97142857142853, 48.924000000000035, 'gini = 0.5\\nsamples = 42\\nvalue = [21, 21]'),\n",
       " Text(350.74285714285713, 48.924000000000035, 'gini = 0.48\\nsamples = 20\\nvalue = [8, 12]'),\n",
       " Text(446.4, 146.772, 'X[2] <= 4.5\\ngini = 0.337\\nsamples = 14\\nvalue = [11, 3]'),\n",
       " Text(414.5142857142857, 48.924000000000035, 'gini = 0.397\\nsamples = 11\\nvalue = [8, 3]'),\n",
       " Text(478.2857142857142, 48.924000000000035, 'gini = 0.0\\nsamples = 3\\nvalue = [3, 0]'),\n",
       " Text(653.6571428571428, 342.468, 'X[0] <= 1.5\\ngini = 0.302\\nsamples = 324\\nvalue = [264, 60]'),\n",
       " Text(542.0571428571428, 244.62, 'X[2] <= 0.5\\ngini = 0.473\\nsamples = 65\\nvalue = [40, 25]'),\n",
       " Text(510.1714285714285, 146.772, 'gini = 0.413\\nsamples = 48\\nvalue = [34, 14]'),\n",
       " Text(573.9428571428571, 146.772, 'X[2] <= 2.5\\ngini = 0.457\\nsamples = 17\\nvalue = [6, 11]'),\n",
       " Text(542.0571428571428, 48.924000000000035, 'gini = 0.43\\nsamples = 16\\nvalue = [5, 11]'),\n",
       " Text(605.8285714285714, 48.924000000000035, 'gini = 0.0\\nsamples = 1\\nvalue = [1, 0]'),\n",
       " Text(765.2571428571428, 244.62, 'X[2] <= 1.5\\ngini = 0.234\\nsamples = 259\\nvalue = [224, 35]'),\n",
       " Text(701.4857142857143, 146.772, 'X[2] <= 0.5\\ngini = 0.245\\nsamples = 238\\nvalue = [204, 34]'),\n",
       " Text(669.5999999999999, 48.924000000000035, 'gini = 0.215\\nsamples = 204\\nvalue = [179, 25]'),\n",
       " Text(733.3714285714285, 48.924000000000035, 'gini = 0.389\\nsamples = 34\\nvalue = [25, 9]'),\n",
       " Text(829.0285714285714, 146.772, 'X[2] <= 3.5\\ngini = 0.091\\nsamples = 21\\nvalue = [20, 1]'),\n",
       " Text(797.1428571428571, 48.924000000000035, 'gini = 0.0\\nsamples = 9\\nvalue = [9, 0]'),\n",
       " Text(860.9142857142856, 48.924000000000035, 'gini = 0.153\\nsamples = 12\\nvalue = [11, 1]')]"
      ]
     },
     "execution_count": 149,
     "metadata": {},
     "output_type": "execute_result"
    },
    {
     "data": {
      "image/png": "[encoded data removed]",
      "text/plain": [
       "<Figure size 1152x648 with 1 Axes>"
      ]
     },
     "metadata": {
      "needs_background": "light"
     },
     "output_type": "display_data"
    }
   ],
   "source": [
    "# visualize model2\n",
    "plt.figure(figsize = (16,9))\n",
    "plot_tree(model2, filled = True )"
   ]
  },
  {
   "cell_type": "code",
   "execution_count": 150,
   "metadata": {},
   "outputs": [
    {
     "name": "stdout",
     "output_type": "stream",
     "text": [
      "Training Set Precision Score: 82.13%\n"
     ]
    }
   ],
   "source": [
    "# run metrics on train set\n",
    "# training score\n",
    "print(f'Training Set Precision Score: {model2.score(X_train, y_train):.2%}')\n",
    "# column of predictions to dataframe\n",
    "train['model2_predictions'] = model2.predict(X_train)"
   ]
  },
  {
   "cell_type": "code",
   "execution_count": 151,
   "metadata": {},
   "outputs": [
    {
     "name": "stdout",
     "output_type": "stream",
     "text": [
      "              precision    recall  f1-score   support\n",
      "\n",
      "           0       0.80      0.95      0.87       307\n",
      "           1       0.88      0.62      0.73       191\n",
      "\n",
      "    accuracy                           0.82       498\n",
      "   macro avg       0.84      0.78      0.80       498\n",
      "weighted avg       0.83      0.82      0.81       498\n",
      "\n",
      "Confusion Matrix for model 2 on Train Set\n",
      "[[291  16]\n",
      " [ 73 118]]\n"
     ]
    }
   ],
   "source": [
    "# classification report\n",
    "# this is just a different way to input these numbers. same as calling the data frame columns above\n",
    "model2_class_report = classification_report(y_train, model2.predict(X_train), zero_division=True)\n",
    "print(model2_class_report)\n",
    "# confusion matrix\n",
    "print('Confusion Matrix for model 2 on Train Set')\n",
    "print(confusion_matrix(train.survived, train.model2_predictions))"
   ]
  },
  {
   "cell_type": "code",
   "execution_count": 152,
   "metadata": {},
   "outputs": [],
   "source": [
    "# create function to print out metrics in one go\n",
    "def run_metrics(model, data_set):\n",
    "    \"\"\"\n",
    "    This function takes in a model and ouputs metrics. \n",
    "    model = name of class model\n",
    "    data_set = train, validate, test (AS A STRING)\n",
    "    Will output the Precision Score, the classification report, and the confusion matrix\n",
    "    It is advisable to print the name of the model you're working with before hand for clarity\n",
    "    i.e. print('Metrics for Model 1 with Train data\\n')\n",
    "    \"\"\"\n",
    "    if data_set == 'train':\n",
    "        score = model.score(X_train, y_train)\n",
    "        X = X_train\n",
    "        y = y_train\n",
    "        df = train\n",
    "        \n",
    "    if data_set == 'validate':\n",
    "        score = model.score(X_validate, y_validate)\n",
    "        X = X_validate\n",
    "        y = y_validate\n",
    "        df = validate\n",
    "        \n",
    "    if data_set == 'test':\n",
    "        score = model.score(X_test, y_test)\n",
    "        X = X_test\n",
    "        y = y_test\n",
    "        df = test\n",
    "        \n",
    "    print(f'{data_set} Set Precision Score: {score:.2%}')\n",
    "    class_report = classification_report(df.survived, model.predict(X), zero_division=True)\n",
    "    print('-------------------------------')\n",
    "    print(f'Classification report')\n",
    "    print(class_report)\n",
    "    print ('-------------------------------')\n",
    "    print('Confusion Matrix')\n",
    "    print(confusion_matrix(df.survived, model.predict(X)))\n"
   ]
  },
  {
   "cell_type": "code",
   "execution_count": 153,
   "metadata": {},
   "outputs": [
    {
     "name": "stdout",
     "output_type": "stream",
     "text": [
      "Metrics for Model 2 on Train data\n",
      "\n",
      "train Set Precision Score: 82.13%\n",
      "-------------------------------\n",
      "Classification report\n",
      "              precision    recall  f1-score   support\n",
      "\n",
      "           0       0.80      0.95      0.87       307\n",
      "           1       0.88      0.62      0.73       191\n",
      "\n",
      "    accuracy                           0.82       498\n",
      "   macro avg       0.84      0.78      0.80       498\n",
      "weighted avg       0.83      0.82      0.81       498\n",
      "\n",
      "-------------------------------\n",
      "Confusion Matrix\n",
      "[[291  16]\n",
      " [ 73 118]]\n"
     ]
    }
   ],
   "source": [
    "print('Metrics for Model 2 on Train data\\n')\n",
    "run_metrics(model2, 'train')"
   ]
  },
  {
   "cell_type": "code",
   "execution_count": 154,
   "metadata": {},
   "outputs": [
    {
     "name": "stdout",
     "output_type": "stream",
     "text": [
      "Metrics for Model 2 on Validate Data\n",
      "\n",
      "validate Set Precision Score: 72.43%\n",
      "-------------------------------\n",
      "Classification report\n",
      "              precision    recall  f1-score   support\n",
      "\n",
      "           0       0.74      0.86      0.79       132\n",
      "           1       0.69      0.50      0.58        82\n",
      "\n",
      "    accuracy                           0.72       214\n",
      "   macro avg       0.72      0.68      0.69       214\n",
      "weighted avg       0.72      0.72      0.71       214\n",
      "\n",
      "-------------------------------\n",
      "Confusion Matrix\n",
      "[[114  18]\n",
      " [ 41  41]]\n"
     ]
    }
   ],
   "source": [
    "# run metrics on validate set\n",
    "print('Metrics for Model 2 on Validate Data\\n')\n",
    "run_metrics(model2, 'validate')"
   ]
  },
  {
   "cell_type": "code",
   "execution_count": 155,
   "metadata": {},
   "outputs": [
    {
     "name": "stdout",
     "output_type": "stream",
     "text": [
      "Metrics for Model 1 on Validate Data\n",
      "\n",
      "validate Set Precision Score: 72.43%\n",
      "-------------------------------\n",
      "Classification report\n",
      "              precision    recall  f1-score   support\n",
      "\n",
      "           0       0.74      0.86      0.79       132\n",
      "           1       0.69      0.50      0.58        82\n",
      "\n",
      "    accuracy                           0.72       214\n",
      "   macro avg       0.72      0.68      0.69       214\n",
      "weighted avg       0.72      0.72      0.71       214\n",
      "\n",
      "-------------------------------\n",
      "Confusion Matrix\n",
      "[[114  18]\n",
      " [ 41  41]]\n"
     ]
    }
   ],
   "source": [
    "print('Metrics for Model 1 on Validate Data\\n')\n",
    "run_metrics(model1, 'validate')"
   ]
  },
  {
   "cell_type": "markdown",
   "metadata": {},
   "source": [
    "*Model 1 and model 2 perform the same!! Uh oh back to make a model 3*"
   ]
  },
  {
   "cell_type": "code",
   "execution_count": 156,
   "metadata": {},
   "outputs": [
    {
     "data": {
      "text/plain": [
       "DecisionTreeClassifier(max_depth=3)"
      ]
     },
     "execution_count": 156,
     "metadata": {},
     "output_type": "execute_result"
    }
   ],
   "source": [
    "# create model 3\n",
    "# change max depth to 3\n",
    "model3 = DecisionTreeClassifier(max_depth = 3)\n",
    "\n",
    "# fit to train dataset\n",
    "model3.fit(X_train, y_train)"
   ]
  },
  {
   "cell_type": "code",
   "execution_count": 157,
   "metadata": {},
   "outputs": [
    {
     "data": {
      "text/plain": [
       "[Text(446.4, 428.08500000000004, 'X[1] <= 0.5\\ngini = 0.473\\nsamples = 498\\nvalue = [307, 191]'),\n",
       " Text(223.2, 305.775, 'X[0] <= 2.5\\ngini = 0.372\\nsamples = 174\\nvalue = [43, 131]'),\n",
       " Text(111.6, 183.46500000000003, 'X[0] <= 1.5\\ngini = 0.059\\nsamples = 98\\nvalue = [3, 95]'),\n",
       " Text(55.8, 61.15499999999997, 'gini = 0.032\\nsamples = 61\\nvalue = [1, 60]'),\n",
       " Text(167.39999999999998, 61.15499999999997, 'gini = 0.102\\nsamples = 37\\nvalue = [2, 35]'),\n",
       " Text(334.79999999999995, 183.46500000000003, 'X[2] <= 1.5\\ngini = 0.499\\nsamples = 76\\nvalue = [40, 36]'),\n",
       " Text(279.0, 61.15499999999997, 'gini = 0.498\\nsamples = 62\\nvalue = [29, 33]'),\n",
       " Text(390.59999999999997, 61.15499999999997, 'gini = 0.337\\nsamples = 14\\nvalue = [11, 3]'),\n",
       " Text(669.5999999999999, 305.775, 'X[0] <= 1.5\\ngini = 0.302\\nsamples = 324\\nvalue = [264, 60]'),\n",
       " Text(558.0, 183.46500000000003, 'X[2] <= 0.5\\ngini = 0.473\\nsamples = 65\\nvalue = [40, 25]'),\n",
       " Text(502.2, 61.15499999999997, 'gini = 0.413\\nsamples = 48\\nvalue = [34, 14]'),\n",
       " Text(613.8, 61.15499999999997, 'gini = 0.457\\nsamples = 17\\nvalue = [6, 11]'),\n",
       " Text(781.1999999999999, 183.46500000000003, 'X[2] <= 1.5\\ngini = 0.234\\nsamples = 259\\nvalue = [224, 35]'),\n",
       " Text(725.4, 61.15499999999997, 'gini = 0.245\\nsamples = 238\\nvalue = [204, 34]'),\n",
       " Text(837.0, 61.15499999999997, 'gini = 0.091\\nsamples = 21\\nvalue = [20, 1]')]"
      ]
     },
     "execution_count": 157,
     "metadata": {},
     "output_type": "execute_result"
    },
    {
     "data": {
      "image/png": "[encoded data removed]",
      "text/plain": [
       "<Figure size 1152x648 with 1 Axes>"
      ]
     },
     "metadata": {
      "needs_background": "light"
     },
     "output_type": "display_data"
    }
   ],
   "source": [
    "# visualize model3\n",
    "plt.figure(figsize = (16,9))\n",
    "plot_tree(model3, filled = True )"
   ]
  },
  {
   "cell_type": "code",
   "execution_count": 158,
   "metadata": {},
   "outputs": [
    {
     "name": "stdout",
     "output_type": "stream",
     "text": [
      "Metrics for Model 3 on Train Data\n",
      "\n",
      "train Set Precision Score: 81.93%\n",
      "-------------------------------\n",
      "Classification report\n",
      "              precision    recall  f1-score   support\n",
      "\n",
      "           0       0.84      0.88      0.86       307\n",
      "           1       0.79      0.73      0.76       191\n",
      "\n",
      "    accuracy                           0.82       498\n",
      "   macro avg       0.81      0.80      0.81       498\n",
      "weighted avg       0.82      0.82      0.82       498\n",
      "\n",
      "-------------------------------\n",
      "Confusion Matrix\n",
      "[[269  38]\n",
      " [ 52 139]]\n",
      "\n",
      "~~~~~~~~~~~~~~~~~~~~~~~~~~~~~~~~~~~~~~~\n",
      "\n",
      "Metrics for Model 3 on Validate Data\n",
      "\n",
      "validate Set Precision Score: 73.83%\n",
      "-------------------------------\n",
      "Classification report\n",
      "              precision    recall  f1-score   support\n",
      "\n",
      "           0       0.78      0.80      0.79       132\n",
      "           1       0.66      0.65      0.65        82\n",
      "\n",
      "    accuracy                           0.74       214\n",
      "   macro avg       0.72      0.72      0.72       214\n",
      "weighted avg       0.74      0.74      0.74       214\n",
      "\n",
      "-------------------------------\n",
      "Confusion Matrix\n",
      "[[105  27]\n",
      " [ 29  53]]\n"
     ]
    }
   ],
   "source": [
    "print('Metrics for Model 3 on Train Data\\n')\n",
    "run_metrics(model3, 'train')\n",
    "\n",
    "print('\\n~~~~~~~~~~~~~~~~~~~~~~~~~~~~~~~~~~~~~~~\\n')\n",
    "\n",
    "print('Metrics for Model 3 on Validate Data\\n')\n",
    "run_metrics(model3, 'validate')"
   ]
  },
  {
   "cell_type": "markdown",
   "metadata": {},
   "source": [
    "#### 6. Which model performs better on your in-sample data (aka TRAIN set)?\n",
    "- They all performed the same .82\n",
    "\n",
    "#### 7. Which model performs best on your out-of-sample data, (aka the VALIDATE set)?\n",
    "- Model 3 performed the best. .74 compared to .72"
   ]
  },
  {
   "cell_type": "code",
   "execution_count": 79,
   "metadata": {},
   "outputs": [],
   "source": []
  },
  {
   "cell_type": "code",
   "execution_count": 2,
   "metadata": {},
   "outputs": [],
   "source": [
    "# revamped metrics function with some more printing in it. Help by Parker\n",
    "def run_metrics2(model, data_set):\n",
    "    \"\"\"\n",
    "    This function takes in a sklearn model and a data set name and prints out metrics for that model. \n",
    "    model = name of model \n",
    "    data_set = 'train', 'validate', or 'test' (AS A STRING)\n",
    "    Can only be used after data is split, and X_ and y_ variables have been set, and after the sklearn model has been created\n",
    "    Will output the Precision Score, the classification report, the confusion matrix, True Positive, False Positive, True Negative, and False Negative rates\n",
    "    It is advisable to print the name of the model you're working with before hand for clarity\n",
    "    i.e. print('Metrics for Model 1 with Train data\\n')\n",
    "    \"\"\"\n",
    "    if data_set == 'train':\n",
    "        X = X_train\n",
    "        y = y_train\n",
    "        df = train\n",
    "    if data_set == 'validate':\n",
    "        X = X_validate\n",
    "        y = y_validate\n",
    "        df = validate\n",
    "    if data_set == 'test':\n",
    "        X = X_test\n",
    "        y = y_test\n",
    "        df = test\n",
    "    score = model.score(X, y)\n",
    "    matrix = confusion_matrix(y, model.predict(X))\n",
    "    tpr = matrix[1,1] / (matrix[1,1] + matrix[1,0])\n",
    "    fpr = matrix[0,1] / (matrix[0,1] + matrix[0,0])\n",
    "    tnr = matrix[0,0] / (matrix[0,0] + matrix[0,1])\n",
    "    fnr = matrix[1,0] / (matrix[1,1] + matrix[1,0])\n",
    "    print(f'{data_set} data set accuracy score: {score:.2%}')\n",
    "    class_report = classification_report(y, model.predict(X), zero_division=True)\n",
    "    print('-------------------------------')\n",
    "    print(f'classification report')\n",
    "    print(class_report)\n",
    "    print ('-------------------------------')\n",
    "    print('')\n",
    "    print('confusion matrix')\n",
    "    print(matrix)\n",
    "    print(' ')\n",
    "    print(f'{data_set} data set model metrics')\n",
    "    print('---------------------------------')\n",
    "    print(f'True positive rate for the model is {tpr:.2%}')\n",
    "    print(f'False positive rate for the model is  {fpr:.2%}')\n",
    "    print(f'True negative rate for the model is {tnr:.2%}')\n",
    "    print(f'False negative rate for the model is {fnr:.2%}')\n",
    "    prc = matrix[1,1] / (matrix[1,1] + matrix[0,1])\n",
    "    print('---------------------------------')\n",
    "    print(f'{data_set} data set accuracy score: {score:.2%}')\n",
    "    print(f'{data_set} data set precision score {prc:.2%}')\n",
    "    print(f'{data_set} data set recall score: {tpr:.2%}')\n"
   ]
  },
  {
   "cell_type": "markdown",
   "metadata": {},
   "source": [
    "<hr style=\"border-top: 10px groove lime; margin-top: 1px; margin-bottom: 1px\"></hr>\n",
    "\n",
    "# Random Forest\n",
    "\n",
    "#### 1. Fit the Random Forest classifier to your training sample and transform (i.e. make predictions on the training sample) setting the random_state accordingly and setting min_samples_leaf = 1 and max_depth = 10.\n",
    "\n"
   ]
  },
  {
   "cell_type": "code",
   "execution_count": 198,
   "metadata": {},
   "outputs": [
    {
     "data": {
      "text/plain": [
       "RandomForestClassifier(max_depth=10, random_state=713)"
      ]
     },
     "execution_count": 198,
     "metadata": {},
     "output_type": "execute_result"
    }
   ],
   "source": [
    "# create random forest model (named model 4)\n",
    "model4 = RandomForestClassifier(min_samples_leaf = 1, max_depth = 10, random_state=713)\n",
    "\n",
    "# fit to train dataset\n",
    "model4.fit(X_train, y_train)\n"
   ]
  },
  {
   "cell_type": "markdown",
   "metadata": {},
   "source": [
    "#### 2. Evaluate your results using the model score, confusion matrix, and classification report."
   ]
  },
  {
   "cell_type": "markdown",
   "metadata": {},
   "source": [
    "#### 3. Print and clearly label the following: Accuracy, true positive rate, false positive rate, true negative rate, false negative rate, precision, recall, f1-score, and support.\n"
   ]
  },
  {
   "cell_type": "code",
   "execution_count": 223,
   "metadata": {},
   "outputs": [
    {
     "name": "stdout",
     "output_type": "stream",
     "text": [
      "Metrics for Model 4 (random forest) on the Train data \n",
      "\n",
      "train data set accuracy score: 82.13%\n",
      "-------------------------------\n",
      "classification report\n",
      "              precision    recall  f1-score   support\n",
      "\n",
      "           0       0.84      0.88      0.86       307\n",
      "           1       0.79      0.73      0.76       191\n",
      "\n",
      "    accuracy                           0.82       498\n",
      "   macro avg       0.81      0.80      0.81       498\n",
      "weighted avg       0.82      0.82      0.82       498\n",
      "\n",
      "-------------------------------\n",
      "\n",
      "confusion matrix\n",
      "[[270  37]\n",
      " [ 52 139]]\n",
      " \n",
      "train data set model metrics\n",
      "---------------------------------\n",
      "True positive rate for the model is 72.77%\n",
      "False positive rate for the model is  12.05%\n",
      "True negative rate for the model is 87.95%\n",
      "False negative rate for the model is 27.23%\n",
      "---------------------------------\n",
      "train data set accuracy score: 82.13%\n",
      "train data set precision score 78.98%\n",
      "train data set recall score: 72.77%\n"
     ]
    }
   ],
   "source": [
    "print('Metrics for Model 4 (random forest) on the Train data \\n')\n",
    "run_metrics2(model4, 'train')"
   ]
  },
  {
   "cell_type": "code",
   "execution_count": 224,
   "metadata": {},
   "outputs": [
    {
     "name": "stdout",
     "output_type": "stream",
     "text": [
      "Metrics for Model 4 (random forest) on the Validate data \n",
      "\n",
      "validate data set accuracy score: 73.83%\n",
      "-------------------------------\n",
      "classification report\n",
      "              precision    recall  f1-score   support\n",
      "\n",
      "           0       0.78      0.80      0.79       132\n",
      "           1       0.66      0.65      0.65        82\n",
      "\n",
      "    accuracy                           0.74       214\n",
      "   macro avg       0.72      0.72      0.72       214\n",
      "weighted avg       0.74      0.74      0.74       214\n",
      "\n",
      "-------------------------------\n",
      "\n",
      "confusion matrix\n",
      "[[105  27]\n",
      " [ 29  53]]\n",
      " \n",
      "validate data set model metrics\n",
      "---------------------------------\n",
      "True positive rate for the model is 64.63%\n",
      "False positive rate for the model is  20.45%\n",
      "True negative rate for the model is 79.55%\n",
      "False negative rate for the model is 35.37%\n",
      "---------------------------------\n",
      "validate data set accuracy score: 73.83%\n",
      "validate data set precision score 66.25%\n",
      "validate data set recall score: 64.63%\n"
     ]
    }
   ],
   "source": [
    "print('Metrics for Model 4 (random forest) on the Validate data \\n')\n",
    "run_metrics2(model4, 'validate')"
   ]
  },
  {
   "cell_type": "markdown",
   "metadata": {},
   "source": [
    "#### 4. Run through steps increasing your min_samples_leaf and decreasing your max_depth."
   ]
  },
  {
   "cell_type": "code",
   "execution_count": 201,
   "metadata": {},
   "outputs": [
    {
     "data": {
      "text/plain": [
       "RandomForestClassifier(max_depth=6, min_samples_leaf=2, random_state=713)"
      ]
     },
     "execution_count": 201,
     "metadata": {},
     "output_type": "execute_result"
    }
   ],
   "source": [
    "# create random forest model (named model 5)\n",
    "model5 = RandomForestClassifier(min_samples_leaf = 2, max_depth = 6, random_state=713)\n",
    "\n",
    "# fit to train dataset\n",
    "model5.fit(X_train, y_train)"
   ]
  },
  {
   "cell_type": "code",
   "execution_count": 202,
   "metadata": {},
   "outputs": [
    {
     "name": "stdout",
     "output_type": "stream",
     "text": [
      "Metrics for Model 5 (random forest) on the Train data \n",
      "\n",
      "train data set accuracy score: 82.13%\n",
      "-------------------------------\n",
      "classification report\n",
      "              precision    recall  f1-score   support\n",
      "\n",
      "           0       0.84      0.88      0.86       307\n",
      "           1       0.79      0.73      0.76       191\n",
      "\n",
      "    accuracy                           0.82       498\n",
      "   macro avg       0.81      0.80      0.81       498\n",
      "weighted avg       0.82      0.82      0.82       498\n",
      "\n",
      "-------------------------------\n",
      "\n",
      "confusion matrix\n",
      "[[270  37]\n",
      " [ 52 139]]\n",
      " \n",
      "train data set model metrics\n",
      "---------------------------------\n",
      "True positive rate for the model is 72.77%\n",
      "False positive rate for the model is  12.05%\n",
      "True negative rate for the model is 87.95%\n",
      "False negative rate for the model is 27.23%\n"
     ]
    }
   ],
   "source": [
    "print('Metrics for Model 5 (random forest) on the Train data \\n')\n",
    "run_metrics2(model5, 'train')"
   ]
  },
  {
   "cell_type": "code",
   "execution_count": 203,
   "metadata": {},
   "outputs": [
    {
     "name": "stdout",
     "output_type": "stream",
     "text": [
      "Metrics for Model 5 (random forest) on the Validate data \n",
      "\n",
      "validate data set accuracy score: 73.83%\n",
      "-------------------------------\n",
      "classification report\n",
      "              precision    recall  f1-score   support\n",
      "\n",
      "           0       0.78      0.80      0.79       132\n",
      "           1       0.66      0.65      0.65        82\n",
      "\n",
      "    accuracy                           0.74       214\n",
      "   macro avg       0.72      0.72      0.72       214\n",
      "weighted avg       0.74      0.74      0.74       214\n",
      "\n",
      "-------------------------------\n",
      "\n",
      "confusion matrix\n",
      "[[105  27]\n",
      " [ 29  53]]\n",
      " \n",
      "validate data set model metrics\n",
      "---------------------------------\n",
      "True positive rate for the model is 64.63%\n",
      "False positive rate for the model is  20.45%\n",
      "True negative rate for the model is 79.55%\n",
      "False negative rate for the model is 35.37%\n"
     ]
    }
   ],
   "source": [
    "print('Metrics for Model 5 (random forest) on the Validate data \\n')\n",
    "run_metrics2(model5, 'validate')"
   ]
  },
  {
   "cell_type": "code",
   "execution_count": 204,
   "metadata": {},
   "outputs": [
    {
     "data": {
      "text/plain": [
       "RandomForestClassifier(max_depth=2, random_state=713)"
      ]
     },
     "execution_count": 204,
     "metadata": {},
     "output_type": "execute_result"
    }
   ],
   "source": [
    "# create random forest model (named model 6)\n",
    "model6 = RandomForestClassifier(min_samples_leaf = 1, max_depth = 2, random_state=713)\n",
    "\n",
    "# fit to train dataset\n",
    "model6.fit(X_train, y_train)"
   ]
  },
  {
   "cell_type": "code",
   "execution_count": 205,
   "metadata": {},
   "outputs": [
    {
     "name": "stdout",
     "output_type": "stream",
     "text": [
      "Metrics for Model 6 (random forest) on the Train data \n",
      "\n",
      "train data set accuracy score: 81.93%\n",
      "-------------------------------\n",
      "classification report\n",
      "              precision    recall  f1-score   support\n",
      "\n",
      "           0       0.84      0.88      0.86       307\n",
      "           1       0.79      0.72      0.75       191\n",
      "\n",
      "    accuracy                           0.82       498\n",
      "   macro avg       0.81      0.80      0.81       498\n",
      "weighted avg       0.82      0.82      0.82       498\n",
      "\n",
      "-------------------------------\n",
      "\n",
      "confusion matrix\n",
      "[[270  37]\n",
      " [ 53 138]]\n",
      " \n",
      "train data set model metrics\n",
      "---------------------------------\n",
      "True positive rate for the model is 72.25%\n",
      "False positive rate for the model is  12.05%\n",
      "True negative rate for the model is 87.95%\n",
      "False negative rate for the model is 27.75%\n"
     ]
    }
   ],
   "source": [
    "print('Metrics for Model 6 (random forest) on the Train data \\n')\n",
    "run_metrics2(model6, 'train')"
   ]
  },
  {
   "cell_type": "code",
   "execution_count": 206,
   "metadata": {},
   "outputs": [
    {
     "name": "stdout",
     "output_type": "stream",
     "text": [
      "Metrics for Model 6 (random forest) on the Validate data \n",
      "\n",
      "validate data set accuracy score: 74.30%\n",
      "-------------------------------\n",
      "classification report\n",
      "              precision    recall  f1-score   support\n",
      "\n",
      "           0       0.79      0.80      0.79       132\n",
      "           1       0.67      0.65      0.66        82\n",
      "\n",
      "    accuracy                           0.74       214\n",
      "   macro avg       0.73      0.72      0.73       214\n",
      "weighted avg       0.74      0.74      0.74       214\n",
      "\n",
      "-------------------------------\n",
      "\n",
      "confusion matrix\n",
      "[[106  26]\n",
      " [ 29  53]]\n",
      " \n",
      "validate data set model metrics\n",
      "---------------------------------\n",
      "True positive rate for the model is 64.63%\n",
      "False positive rate for the model is  19.70%\n",
      "True negative rate for the model is 80.30%\n",
      "False negative rate for the model is 35.37%\n"
     ]
    }
   ],
   "source": [
    "print('Metrics for Model 6 (random forest) on the Validate data \\n')\n",
    "run_metrics2(model6, 'validate')"
   ]
  },
  {
   "cell_type": "code",
   "execution_count": 207,
   "metadata": {},
   "outputs": [
    {
     "data": {
      "text/plain": [
       "RandomForestClassifier(max_depth=4, min_samples_leaf=25, random_state=713)"
      ]
     },
     "execution_count": 207,
     "metadata": {},
     "output_type": "execute_result"
    }
   ],
   "source": [
    "# create random forest model (named model 7)\n",
    "model7 = RandomForestClassifier(min_samples_leaf = 25, max_depth = 4, random_state=713)\n",
    "\n",
    "# fit to train dataset\n",
    "model7.fit(X_train, y_train)"
   ]
  },
  {
   "cell_type": "code",
   "execution_count": 225,
   "metadata": {},
   "outputs": [
    {
     "name": "stdout",
     "output_type": "stream",
     "text": [
      "Metrics for Model 7 (random forest) on the train data \n",
      "\n",
      "train data set accuracy score: 80.92%\n",
      "-------------------------------\n",
      "classification report\n",
      "              precision    recall  f1-score   support\n",
      "\n",
      "           0       0.81      0.90      0.85       307\n",
      "           1       0.80      0.67      0.73       191\n",
      "\n",
      "    accuracy                           0.81       498\n",
      "   macro avg       0.81      0.78      0.79       498\n",
      "weighted avg       0.81      0.81      0.81       498\n",
      "\n",
      "-------------------------------\n",
      "\n",
      "confusion matrix\n",
      "[[275  32]\n",
      " [ 63 128]]\n",
      " \n",
      "train data set model metrics\n",
      "---------------------------------\n",
      "True positive rate for the model is 67.02%\n",
      "False positive rate for the model is  10.42%\n",
      "True negative rate for the model is 89.58%\n",
      "False negative rate for the model is 32.98%\n",
      "---------------------------------\n",
      "train data set accuracy score: 80.92%\n",
      "train data set precision score 80.00%\n",
      "train data set recall score: 67.02%\n"
     ]
    }
   ],
   "source": [
    "print('Metrics for Model 7 (random forest) on the train data \\n')\n",
    "run_metrics2(model7, 'train')"
   ]
  },
  {
   "cell_type": "code",
   "execution_count": 226,
   "metadata": {},
   "outputs": [
    {
     "name": "stdout",
     "output_type": "stream",
     "text": [
      "Metrics for Model 7 (random forest) on the Validate data \n",
      "\n",
      "validate data set accuracy score: 75.70%\n",
      "-------------------------------\n",
      "classification report\n",
      "              precision    recall  f1-score   support\n",
      "\n",
      "           0       0.78      0.84      0.81       132\n",
      "           1       0.71      0.62      0.66        82\n",
      "\n",
      "    accuracy                           0.76       214\n",
      "   macro avg       0.75      0.73      0.74       214\n",
      "weighted avg       0.75      0.76      0.75       214\n",
      "\n",
      "-------------------------------\n",
      "\n",
      "confusion matrix\n",
      "[[111  21]\n",
      " [ 31  51]]\n",
      " \n",
      "validate data set model metrics\n",
      "---------------------------------\n",
      "True positive rate for the model is 62.20%\n",
      "False positive rate for the model is  15.91%\n",
      "True negative rate for the model is 84.09%\n",
      "False negative rate for the model is 37.80%\n",
      "---------------------------------\n",
      "validate data set accuracy score: 75.70%\n",
      "validate data set precision score 70.83%\n",
      "validate data set recall score: 62.20%\n"
     ]
    }
   ],
   "source": [
    "###### This is the best one so far\n",
    "print('Metrics for Model 7 (random forest) on the Validate data \\n')\n",
    "run_metrics2(model7, 'validate')"
   ]
  },
  {
   "cell_type": "code",
   "execution_count": 213,
   "metadata": {},
   "outputs": [
    {
     "data": {
      "text/plain": [
       "RandomForestClassifier(max_depth=3, min_samples_leaf=25, random_state=713)"
      ]
     },
     "execution_count": 213,
     "metadata": {},
     "output_type": "execute_result"
    }
   ],
   "source": [
    "# create random forest model (named model 8)\n",
    "model8 = RandomForestClassifier(min_samples_leaf = 25, max_depth = 3, random_state=713)\n",
    "\n",
    "# fit to train dataset\n",
    "model8.fit(X_train, y_train)"
   ]
  },
  {
   "cell_type": "code",
   "execution_count": 214,
   "metadata": {},
   "outputs": [
    {
     "name": "stdout",
     "output_type": "stream",
     "text": [
      "Metrics for Model 8 with the Train Data\n",
      "train data set accuracy score: 80.92%\n",
      "-------------------------------\n",
      "classification report\n",
      "              precision    recall  f1-score   support\n",
      "\n",
      "           0       0.78      0.96      0.86       307\n",
      "           1       0.91      0.56      0.69       191\n",
      "\n",
      "    accuracy                           0.81       498\n",
      "   macro avg       0.84      0.76      0.78       498\n",
      "weighted avg       0.83      0.81      0.80       498\n",
      "\n",
      "-------------------------------\n",
      "\n",
      "confusion matrix\n",
      "[[296  11]\n",
      " [ 84 107]]\n",
      " \n",
      "train data set model metrics\n",
      "---------------------------------\n",
      "True positive rate for the model is 56.02%\n",
      "False positive rate for the model is  3.58%\n",
      "True negative rate for the model is 96.42%\n",
      "False negative rate for the model is 43.98%\n"
     ]
    }
   ],
   "source": [
    "print('Metrics for Model 8 with the Train Data')\n",
    "run_metrics2(model8, 'train')"
   ]
  },
  {
   "cell_type": "code",
   "execution_count": 215,
   "metadata": {},
   "outputs": [
    {
     "name": "stdout",
     "output_type": "stream",
     "text": [
      "Metrics for Model 8 with the Validate Data\n",
      "validate data set accuracy score: 74.30%\n",
      "-------------------------------\n",
      "classification report\n",
      "              precision    recall  f1-score   support\n",
      "\n",
      "           0       0.74      0.91      0.81       132\n",
      "           1       0.76      0.48      0.59        82\n",
      "\n",
      "    accuracy                           0.74       214\n",
      "   macro avg       0.75      0.69      0.70       214\n",
      "weighted avg       0.75      0.74      0.73       214\n",
      "\n",
      "-------------------------------\n",
      "\n",
      "confusion matrix\n",
      "[[120  12]\n",
      " [ 43  39]]\n",
      " \n",
      "validate data set model metrics\n",
      "---------------------------------\n",
      "True positive rate for the model is 47.56%\n",
      "False positive rate for the model is  9.09%\n",
      "True negative rate for the model is 90.91%\n",
      "False negative rate for the model is 52.44%\n"
     ]
    }
   ],
   "source": [
    "print('Metrics for Model 8 with the Validate Data')\n",
    "run_metrics2(model8, 'validate')"
   ]
  },
  {
   "cell_type": "markdown",
   "metadata": {},
   "source": [
    "#### 5. What are the differences in the evaluation metrics? Which performs better on your in-sample data? Why?"
   ]
  },
  {
   "cell_type": "code",
   "execution_count": null,
   "metadata": {},
   "outputs": [],
   "source": []
  },
  {
   "cell_type": "markdown",
   "metadata": {},
   "source": [
    "<hr style=\"border-top: 10px groove lime; margin-top: 1px; margin-bottom: 1px\"></hr>\n",
    "\n",
    "# K Nearest Neighbors Exercises\n",
    "\n",
    "#### 1. Continue working in your model file with the titanic dataset. Fit a K-Nearest Neighbors classifier to your training sample and transform (i.e. make predictions on the training sample)"
   ]
  },
  {
   "cell_type": "code",
   "execution_count": 8,
   "metadata": {},
   "outputs": [],
   "source": [
    "from sklearn.neighbors import KNeighborsClassifier"
   ]
  },
  {
   "cell_type": "code",
   "execution_count": 14,
   "metadata": {},
   "outputs": [
    {
     "data": {
      "text/plain": [
       "(0.821285140562249, 0.7336448598130841)"
      ]
     },
     "execution_count": 14,
     "metadata": {},
     "output_type": "execute_result"
    }
   ],
   "source": [
    "# create model named knn1\n",
    "knn1 = KNeighborsClassifier(n_neighbors=1)\n",
    "knn1.fit(X_train, y_train)\n",
    "knn1.score(X_train, y_train), knn1.score(X_validate, y_validate)"
   ]
  },
  {
   "cell_type": "markdown",
   "metadata": {},
   "source": [
    "#### 2. Evaluate your results using the model score, confusion matrix, and classification report.\n",
    "\n",
    "#### 3. Print and clearly label the following: Accuracy, true positive rate, false positive rate, true negative rate, false negative rate, precision, recall, f1-score, and support."
   ]
  },
  {
   "cell_type": "code",
   "execution_count": 11,
   "metadata": {},
   "outputs": [
    {
     "name": "stdout",
     "output_type": "stream",
     "text": [
      "train data set accuracy score: 82.13%\n",
      "-------------------------------\n",
      "classification report\n",
      "              precision    recall  f1-score   support\n",
      "\n",
      "           0       0.84      0.88      0.86       307\n",
      "           1       0.79      0.73      0.76       191\n",
      "\n",
      "    accuracy                           0.82       498\n",
      "   macro avg       0.81      0.80      0.81       498\n",
      "weighted avg       0.82      0.82      0.82       498\n",
      "\n",
      "-------------------------------\n",
      "\n",
      "confusion matrix\n",
      "[[270  37]\n",
      " [ 52 139]]\n",
      " \n",
      "train data set model metrics\n",
      "---------------------------------\n",
      "True positive rate for the model is 72.77%\n",
      "False positive rate for the model is  12.05%\n",
      "True negative rate for the model is 87.95%\n",
      "False negative rate for the model is 27.23%\n",
      "---------------------------------\n",
      "train data set accuracy score: 82.13%\n",
      "train data set precision score 78.98%\n",
      "train data set recall score: 72.77%\n"
     ]
    }
   ],
   "source": [
    "run_metrics2(knn1, 'train')"
   ]
  },
  {
   "cell_type": "code",
   "execution_count": 12,
   "metadata": {},
   "outputs": [
    {
     "name": "stdout",
     "output_type": "stream",
     "text": [
      "validate data set accuracy score: 73.36%\n",
      "-------------------------------\n",
      "classification report\n",
      "              precision    recall  f1-score   support\n",
      "\n",
      "           0       0.78      0.80      0.79       132\n",
      "           1       0.66      0.63      0.65        82\n",
      "\n",
      "    accuracy                           0.73       214\n",
      "   macro avg       0.72      0.71      0.72       214\n",
      "weighted avg       0.73      0.73      0.73       214\n",
      "\n",
      "-------------------------------\n",
      "\n",
      "confusion matrix\n",
      "[[105  27]\n",
      " [ 30  52]]\n",
      " \n",
      "validate data set model metrics\n",
      "---------------------------------\n",
      "True positive rate for the model is 63.41%\n",
      "False positive rate for the model is  20.45%\n",
      "True negative rate for the model is 79.55%\n",
      "False negative rate for the model is 36.59%\n",
      "---------------------------------\n",
      "validate data set accuracy score: 73.36%\n",
      "validate data set precision score 65.82%\n",
      "validate data set recall score: 63.41%\n"
     ]
    }
   ],
   "source": [
    "run_metrics2(knn1, 'validate')"
   ]
  },
  {
   "cell_type": "markdown",
   "metadata": {},
   "source": [
    "#### 4. Run through steps 2-4 setting k to 10"
   ]
  },
  {
   "cell_type": "code",
   "execution_count": 17,
   "metadata": {},
   "outputs": [
    {
     "data": {
      "text/plain": [
       "(0.8172690763052208, 0.7383177570093458)"
      ]
     },
     "execution_count": 17,
     "metadata": {},
     "output_type": "execute_result"
    }
   ],
   "source": [
    "knn2 = KNeighborsClassifier(n_neighbors=10)\n",
    "knn2.fit(X_train, y_train)\n",
    "knn2.score(X_train, y_train), knn2.score(X_validate, y_validate)"
   ]
  },
  {
   "cell_type": "code",
   "execution_count": 18,
   "metadata": {},
   "outputs": [
    {
     "name": "stdout",
     "output_type": "stream",
     "text": [
      "train data set accuracy score: 81.73%\n",
      "-------------------------------\n",
      "classification report\n",
      "              precision    recall  f1-score   support\n",
      "\n",
      "           0       0.84      0.88      0.86       307\n",
      "           1       0.78      0.72      0.75       191\n",
      "\n",
      "    accuracy                           0.82       498\n",
      "   macro avg       0.81      0.80      0.80       498\n",
      "weighted avg       0.82      0.82      0.82       498\n",
      "\n",
      "-------------------------------\n",
      "\n",
      "confusion matrix\n",
      "[[269  38]\n",
      " [ 53 138]]\n",
      " \n",
      "train data set model metrics\n",
      "---------------------------------\n",
      "True positive rate for the model is 72.25%\n",
      "False positive rate for the model is  12.38%\n",
      "True negative rate for the model is 87.62%\n",
      "False negative rate for the model is 27.75%\n",
      "---------------------------------\n",
      "train data set accuracy score: 81.73%\n",
      "train data set precision score 78.41%\n",
      "train data set recall score: 72.25%\n"
     ]
    }
   ],
   "source": [
    "run_metrics2(knn2, 'train')"
   ]
  },
  {
   "cell_type": "code",
   "execution_count": 19,
   "metadata": {},
   "outputs": [
    {
     "name": "stdout",
     "output_type": "stream",
     "text": [
      "validate data set accuracy score: 73.83%\n",
      "-------------------------------\n",
      "classification report\n",
      "              precision    recall  f1-score   support\n",
      "\n",
      "           0       0.78      0.80      0.79       132\n",
      "           1       0.67      0.63      0.65        82\n",
      "\n",
      "    accuracy                           0.74       214\n",
      "   macro avg       0.72      0.72      0.72       214\n",
      "weighted avg       0.74      0.74      0.74       214\n",
      "\n",
      "-------------------------------\n",
      "\n",
      "confusion matrix\n",
      "[[106  26]\n",
      " [ 30  52]]\n",
      " \n",
      "validate data set model metrics\n",
      "---------------------------------\n",
      "True positive rate for the model is 63.41%\n",
      "False positive rate for the model is  19.70%\n",
      "True negative rate for the model is 80.30%\n",
      "False negative rate for the model is 36.59%\n",
      "---------------------------------\n",
      "validate data set accuracy score: 73.83%\n",
      "validate data set precision score 66.67%\n",
      "validate data set recall score: 63.41%\n"
     ]
    }
   ],
   "source": [
    "run_metrics2(knn2, 'validate')"
   ]
  },
  {
   "cell_type": "code",
   "execution_count": null,
   "metadata": {},
   "outputs": [],
   "source": [
    "# for both n_neighbors = 1 and n_neighbors = 10 not really any significant changes in the performance"
   ]
  },
  {
   "cell_type": "markdown",
   "metadata": {},
   "source": [
    "#### 5. Run through setps 2-4 setting k to 20"
   ]
  },
  {
   "cell_type": "code",
   "execution_count": 20,
   "metadata": {},
   "outputs": [
    {
     "data": {
      "text/plain": [
       "(0.821285140562249, 0.7336448598130841)"
      ]
     },
     "execution_count": 20,
     "metadata": {},
     "output_type": "execute_result"
    }
   ],
   "source": [
    "knn3 = KNeighborsClassifier(n_neighbors=20)\n",
    "knn3.fit(X_train, y_train)\n",
    "knn3.score(X_train, y_train), knn3.score(X_validate, y_validate)"
   ]
  },
  {
   "cell_type": "code",
   "execution_count": 21,
   "metadata": {},
   "outputs": [
    {
     "name": "stdout",
     "output_type": "stream",
     "text": [
      "train data set accuracy score: 82.13%\n",
      "-------------------------------\n",
      "classification report\n",
      "              precision    recall  f1-score   support\n",
      "\n",
      "           0       0.84      0.88      0.86       307\n",
      "           1       0.79      0.73      0.76       191\n",
      "\n",
      "    accuracy                           0.82       498\n",
      "   macro avg       0.81      0.80      0.81       498\n",
      "weighted avg       0.82      0.82      0.82       498\n",
      "\n",
      "-------------------------------\n",
      "\n",
      "confusion matrix\n",
      "[[270  37]\n",
      " [ 52 139]]\n",
      " \n",
      "train data set model metrics\n",
      "---------------------------------\n",
      "True positive rate for the model is 72.77%\n",
      "False positive rate for the model is  12.05%\n",
      "True negative rate for the model is 87.95%\n",
      "False negative rate for the model is 27.23%\n",
      "---------------------------------\n",
      "train data set accuracy score: 82.13%\n",
      "train data set precision score 78.98%\n",
      "train data set recall score: 72.77%\n"
     ]
    }
   ],
   "source": [
    "run_metrics2(knn3, 'train')"
   ]
  },
  {
   "cell_type": "code",
   "execution_count": 22,
   "metadata": {},
   "outputs": [
    {
     "name": "stdout",
     "output_type": "stream",
     "text": [
      "validate data set accuracy score: 73.36%\n",
      "-------------------------------\n",
      "classification report\n",
      "              precision    recall  f1-score   support\n",
      "\n",
      "           0       0.78      0.80      0.79       132\n",
      "           1       0.66      0.63      0.65        82\n",
      "\n",
      "    accuracy                           0.73       214\n",
      "   macro avg       0.72      0.71      0.72       214\n",
      "weighted avg       0.73      0.73      0.73       214\n",
      "\n",
      "-------------------------------\n",
      "\n",
      "confusion matrix\n",
      "[[105  27]\n",
      " [ 30  52]]\n",
      " \n",
      "validate data set model metrics\n",
      "---------------------------------\n",
      "True positive rate for the model is 63.41%\n",
      "False positive rate for the model is  20.45%\n",
      "True negative rate for the model is 79.55%\n",
      "False negative rate for the model is 36.59%\n",
      "---------------------------------\n",
      "validate data set accuracy score: 73.36%\n",
      "validate data set precision score 65.82%\n",
      "validate data set recall score: 63.41%\n"
     ]
    }
   ],
   "source": [
    "run_metrics2(knn3, 'validate')"
   ]
  },
  {
   "cell_type": "markdown",
   "metadata": {},
   "source": [
    "#### 6. What are the differences in the evaluation metrics? Which performs better on your in-sample data? Why?\n",
    "- for my training data set performance is similar accross all three models. I used only the variables, pclass, sibsp (sibling, spouse), and is_male. \n",
    "- However, the n_neighbors = 1 accuracy was 82, then it seemed to go down a bit to 81 with n_neigbors = 10, and then going back up to 82 with n_neighbors = 20. The higher percentage with the neighbor count suggests overfitting.  \n",
    "- I'm going to try n_neighbor = 4 and see where that gets me\n",
    "- if you look below there's a loop checking the accuracy percentages for neighbors 1 - 20. \n",
    "- Seems as if 2 works the best for the variables I'm using\n",
    "\n",
    "#### 7. Which model performs best on our out-of-sample data from validate?\n",
    "- the model with n_neighbors = 10 (knn2), however it only performs better by like half a percent\n",
    "- Not sure if my variables have anything to do with it. \n"
   ]
  },
  {
   "cell_type": "code",
   "execution_count": 39,
   "metadata": {},
   "outputs": [
    {
     "data": {
      "text/plain": [
       "(0.8012048192771084, 0.7570093457943925)"
      ]
     },
     "execution_count": 39,
     "metadata": {},
     "output_type": "execute_result"
    }
   ],
   "source": [
    "# create knn4 which is n_neighbors = 2\n",
    "knn4 = KNeighborsClassifier(n_neighbors=2)\n",
    "knn4.fit(X_train, y_train)\n",
    "knn4.score(X_train, y_train), knn4.score(X_validate, y_validate)"
   ]
  },
  {
   "cell_type": "code",
   "execution_count": 37,
   "metadata": {},
   "outputs": [
    {
     "name": "stdout",
     "output_type": "stream",
     "text": [
      " 1: Train: 82.13% Validate: 73.36%\n",
      " 2: Train: 80.12% Validate: 75.70%\n",
      " 3: Train: 74.50% Validate: 64.49%\n",
      " 4: Train: 81.73% Validate: 73.83%\n",
      " 5: Train: 76.91% Validate: 68.69%\n",
      " 6: Train: 81.12% Validate: 70.56%\n",
      " 7: Train: 80.92% Validate: 71.03%\n",
      " 8: Train: 81.73% Validate: 74.30%\n",
      " 9: Train: 80.72% Validate: 71.50%\n",
      "10: Train: 81.73% Validate: 73.83%\n",
      "11: Train: 81.73% Validate: 73.83%\n",
      "12: Train: 81.93% Validate: 73.83%\n",
      "13: Train: 82.13% Validate: 73.36%\n",
      "14: Train: 81.93% Validate: 73.83%\n",
      "15: Train: 82.13% Validate: 73.36%\n",
      "16: Train: 81.93% Validate: 73.83%\n",
      "17: Train: 82.13% Validate: 73.36%\n",
      "18: Train: 82.13% Validate: 73.36%\n",
      "19: Train: 82.13% Validate: 73.36%\n",
      "20: Train: 82.13% Validate: 73.36%\n"
     ]
    }
   ],
   "source": [
    "# use loop from lesson demo (with some tweaks) to see neighbor results for 1 - 20\n",
    "for k in range(1, 21):\n",
    "    knn = KNeighborsClassifier(n_neighbors=k)\n",
    "    knn.fit(X_train, y_train)\n",
    "    accuracy = knn.score(X_train, y_train)\n",
    "    accuracyv = knn.score(X_validate, y_validate)\n",
    "    print(f'{k:2d}: Train: {accuracy:4.2%} Validate: {accuracyv:4.2%}')"
   ]
  },
  {
   "cell_type": "markdown",
   "metadata": {},
   "source": [
    "#### Using 2 n_neighbors performs the best here. It has a validate accuracy score of almost 76%. Also doesn't appear to be overfit to the training set"
   ]
  },
  {
   "cell_type": "code",
   "execution_count": 40,
   "metadata": {},
   "outputs": [
    {
     "name": "stdout",
     "output_type": "stream",
     "text": [
      "test data set accuracy score: 77.65%\n",
      "-------------------------------\n",
      "classification report\n",
      "              precision    recall  f1-score   support\n",
      "\n",
      "           0       0.74      0.98      0.84       110\n",
      "           1       0.94      0.45      0.61        69\n",
      "\n",
      "    accuracy                           0.78       179\n",
      "   macro avg       0.84      0.72      0.73       179\n",
      "weighted avg       0.82      0.78      0.75       179\n",
      "\n",
      "-------------------------------\n",
      "\n",
      "confusion matrix\n",
      "[[108   2]\n",
      " [ 38  31]]\n",
      " \n",
      "test data set model metrics\n",
      "---------------------------------\n",
      "True positive rate for the model is 44.93%\n",
      "False positive rate for the model is  1.82%\n",
      "True negative rate for the model is 98.18%\n",
      "False negative rate for the model is 55.07%\n",
      "---------------------------------\n",
      "test data set accuracy score: 77.65%\n",
      "test data set precision score 93.94%\n",
      "test data set recall score: 44.93%\n"
     ]
    }
   ],
   "source": [
    "# run the 2n_neighbors on the test set (knn4)\n",
    "\n",
    "run_metrics2(knn4, 'test') "
   ]
  },
  {
   "cell_type": "code",
   "execution_count": null,
   "metadata": {},
   "outputs": [],
   "source": []
  }
 ],
 "metadata": {
  "kernelspec": {
   "display_name": "Python 3",
   "language": "python",
   "name": "python3"
  },
  "language_info": {
   "codemirror_mode": {
    "name": "ipython",
    "version": 3
   },
   "file_extension": ".py",
   "mimetype": "text/x-python",
   "name": "python",
   "nbconvert_exporter": "python",
   "pygments_lexer": "ipython3",
   "version": "3.8.5"
  }
 },
 "nbformat": 4,
 "nbformat_minor": 4
}
